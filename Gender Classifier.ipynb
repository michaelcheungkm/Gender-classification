{
 "cells": [
  {
   "cell_type": "markdown",
   "metadata": {},
   "source": [
    "# Gender Classifier"
   ]
  },
  {
   "cell_type": "markdown",
   "metadata": {},
   "source": [
    "### The following table displays the gender, height (feet), weight (pound) and length of foot (inches) of 8 individuals."
   ]
  },
  {
   "cell_type": "code",
   "execution_count": 23,
   "metadata": {},
   "outputs": [
    {
     "data": {
      "text/html": [
       "<table>\n",
       "<tbody>\n",
       "<tr><td>Gender</td><td>Height</td><td>Weight</td><td>Foot</td></tr>\n",
       "<tr><td>M     </td><td>6     </td><td>180   </td><td>12  </td></tr>\n",
       "<tr><td>M     </td><td>5.92  </td><td>190   </td><td>11  </td></tr>\n",
       "<tr><td>M     </td><td>5.58  </td><td>170   </td><td>12  </td></tr>\n",
       "<tr><td>M     </td><td>5.92  </td><td>165   </td><td>10  </td></tr>\n",
       "<tr><td>F     </td><td>5     </td><td>100   </td><td>6   </td></tr>\n",
       "<tr><td>F     </td><td>5.5   </td><td>150   </td><td>8   </td></tr>\n",
       "<tr><td>F     </td><td>5.42  </td><td>130   </td><td>7   </td></tr>\n",
       "<tr><td>F     </td><td>5.75  </td><td>150   </td><td>9   </td></tr>\n",
       "</tbody>\n",
       "</table>"
      ],
      "text/plain": [
       "<IPython.core.display.HTML object>"
      ]
     },
     "metadata": {},
     "output_type": "display_data"
    }
   ],
   "source": [
    "from IPython.display import HTML, display\n",
    "import tabulate\n",
    "table = [[\"Gender\",\"Height\",\"Weight\",\"Foot\"],\n",
    "         [\"M\",6,180,12],\n",
    "         [\"M\",5.92,190,11],\n",
    "         [\"M\",5.58,170,12],\n",
    "         [\"M\",5.92,165,10],\n",
    "         [\"F\",5,100,6],\n",
    "         [\"F\",5.5,150,8],\n",
    "         [\"F\",5.42,130,7],\n",
    "         [\"F\",5.75,150,9]]\n",
    "display(HTML(tabulate.tabulate(table, tablefmt='html')))"
   ]
  },
  {
   "cell_type": "markdown",
   "metadata": {},
   "source": [
    "### We are going to do the followings:\n",
    "### (1) Divide the data set into two parts by Gender.\n",
    "### (2) Find the mean and standard deviation of height, weight and foot length by gender.\n",
    "### (3) Assume normality on all variables, build a simple gender classifier to predict gender of new individuals such as"
   ]
  },
  {
   "cell_type": "markdown",
   "metadata": {},
   "source": [
    "### Let $X$ be a measure of an individual. Let $C$ be the gender classification variable ($C=0$ for male and $C=1$ for female).\n",
    "### Suppose that $X=x|C=c$ is normally distributed with mean $\\mu_{c}$ and variance $\\sigma_{c}^{2}$, for $c=0,1$.\n",
    "### Given measurements of $n$ individuals randomly selected from the population. Let the observations be $\\{(x_{i},c_{i}), i=1,2,\\ldots,n\\} $\n",
    "### The prior distribution of gender class is \n",
    "$$p(c) =\\frac{\\sum_{i=1}^{n} I(c_{i}=c) }{n}.$$\n",
    "### The posterior distribution of the gender class given the observations is given by the Bayes Theorem\n",
    "$$p(c|x_{1},x_{2},\\ldots,x_{n}) \\propto \\prod_{i=1}^{n} p( X=x_{i}|C=c) p( c), $$\n",
    "### where\n",
    "$$p(X=x|C=c) = \\frac{1}{\\sqrt{2\\pi \\sigma_{c}^{2}}} \\exp{(\\frac{-1}{2 \\sigma_{c}^{2}} (x-\\mu_{c})^{2})}.$$"
   ]
  },
  {
   "cell_type": "markdown",
   "metadata": {},
   "source": [
    "### For multiple class classification, we classify an individual to class $k$ when\n",
    "$$k= argmax_{i=1,2,\\ldots,n}  p(c=i|x_{1},x_{2},\\ldots,x_{n}).$$\n",
    "### For two class classification, we evaluate the odds ratio\n",
    "$$odds = \\frac{p(c=0|x_{1},x_{2},\\ldots,x_{n})}{p(c=1|x_{1},x_{2},\\ldots,x_{n})}.$$\n",
    "### Classify an individual as male if $odds > 1$ and as female otherwise."
   ]
  },
  {
   "cell_type": "code",
   "execution_count": 24,
   "metadata": {},
   "outputs": [
    {
     "data": {
      "text/html": [
       "<table>\n",
       "<tbody>\n",
       "<tr><td>Gender</td><td>Height</td><td>Weight</td><td>Foot</td></tr>\n",
       "<tr><td>?     </td><td>6     </td><td>130   </td><td>8   </td></tr>\n",
       "<tr><td>?     </td><td>6.5   </td><td>190   </td><td>10  </td></tr>\n",
       "</tbody>\n",
       "</table>"
      ],
      "text/plain": [
       "<IPython.core.display.HTML object>"
      ]
     },
     "metadata": {},
     "output_type": "display_data"
    }
   ],
   "source": [
    "table = [[\"Gender\",\"Height\",\"Weight\",\"Foot\"],\n",
    "         [\"?\",6,130,8],\n",
    "         [\"?\",6.5,190,10]]\n",
    "display(HTML(tabulate.tabulate(table, tablefmt='html')))"
   ]
  },
  {
   "cell_type": "code",
   "execution_count": 7,
   "metadata": {},
   "outputs": [],
   "source": [
    "from collections import defaultdict\n",
    "import math"
   ]
  },
  {
   "cell_type": "code",
   "execution_count": 6,
   "metadata": {},
   "outputs": [],
   "source": [
    "def avg(x):\n",
    "    return sum(x)/len(x)"
   ]
  },
  {
   "cell_type": "code",
   "execution_count": 8,
   "metadata": {},
   "outputs": [],
   "source": [
    "def stdev(x):\n",
    "    y = [(t-avg(x))*(t-avg(x)) for t in x]\n",
    "    y = sum(y)/(len(y)-1)\n",
    "    return math.sqrt(y)"
   ]
  },
  {
   "cell_type": "code",
   "execution_count": 1,
   "metadata": {},
   "outputs": [],
   "source": [
    "persons = [(\"M\",6,180,12),(\"M\",5.92,190,11),(\"M\",5.58,170,12),(\"M\",5.92,165,10),(\"F\",5,100,6),(\"F\",5.5,150,8),(\"F\",5.42,130,7),(\"F\",5.75,150,9)]"
   ]
  },
  {
   "cell_type": "code",
   "execution_count": 3,
   "metadata": {},
   "outputs": [],
   "source": [
    "height_by_gender = defaultdict(list)\n",
    "for gender, height, weight, foot in persons:\n",
    "    height_by_gender[gender].append(height)"
   ]
  },
  {
   "cell_type": "code",
   "execution_count": 9,
   "metadata": {},
   "outputs": [],
   "source": [
    "summary_height_by_gender = {gender: (round(avg(heights),2),round(stdev(heights),2)) for gender, heights in height_by_gender.items()}"
   ]
  },
  {
   "cell_type": "code",
   "execution_count": 10,
   "metadata": {},
   "outputs": [
    {
     "data": {
      "text/plain": [
       "[('M', (5.86, 0.19)), ('F', (5.42, 0.31))]"
      ]
     },
     "execution_count": 10,
     "metadata": {},
     "output_type": "execute_result"
    }
   ],
   "source": [
    "list(summary_height_by_gender.items())"
   ]
  },
  {
   "cell_type": "code",
   "execution_count": 11,
   "metadata": {},
   "outputs": [],
   "source": [
    "record_by_gender = defaultdict(list)\n",
    "for gender, height, weight, foot in persons:\n",
    "    record_by_gender[gender].append((height,weight,foot))"
   ]
  },
  {
   "cell_type": "code",
   "execution_count": 12,
   "metadata": {},
   "outputs": [],
   "source": [
    "mean_by_gender = {gender:(round(avg([x for x,y,z in records]),2),round(avg([y for x,y,z in records]),2),round(avg([z for x,y,z in records]),2)) for gender,records in record_by_gender.items()}\n",
    "std_by_gender = {gender:(round(stdev([x for x,y,z in records]),2),round(stdev([y for x,y,z in records]),2),round(stdev([z for x,y,z in records]),2)) for gender,records in record_by_gender.items()}"
   ]
  },
  {
   "cell_type": "code",
   "execution_count": 13,
   "metadata": {},
   "outputs": [
    {
     "data": {
      "text/plain": [
       "[('M', (5.86, 176.25, 11.25)), ('F', (5.42, 132.5, 7.5))]"
      ]
     },
     "execution_count": 13,
     "metadata": {},
     "output_type": "execute_result"
    }
   ],
   "source": [
    "list(mean_by_gender.items())"
   ]
  },
  {
   "cell_type": "code",
   "execution_count": 14,
   "metadata": {},
   "outputs": [
    {
     "data": {
      "text/plain": [
       "[('M', (0.19, 11.09, 0.96)), ('F', (0.31, 23.63, 1.29))]"
      ]
     },
     "execution_count": 14,
     "metadata": {},
     "output_type": "execute_result"
    }
   ],
   "source": [
    "list(std_by_gender.items())"
   ]
  },
  {
   "cell_type": "code",
   "execution_count": 15,
   "metadata": {},
   "outputs": [],
   "source": [
    "def normpdf(x, mean, sd):\n",
    "    var = float(sd)**2\n",
    "    pi = 3.1415926\n",
    "    denom = (2*pi*var)**.5\n",
    "    num = math.exp(-(float(x)-float(mean))**2/(2*var))\n",
    "    return num/denom"
   ]
  },
  {
   "cell_type": "code",
   "execution_count": 16,
   "metadata": {},
   "outputs": [],
   "source": [
    "def prod(x,y):\n",
    "    s = 1\n",
    "    for v1,v2 in zip(x,y):\n",
    "        s = float(s)*v1/v2\n",
    "    return(float(s))"
   ]
  },
  {
   "cell_type": "code",
   "execution_count": 18,
   "metadata": {},
   "outputs": [],
   "source": [
    "def predict_class(person,p=(0.5,0.5)):\n",
    "    if p[0]+p[1] != 1:\n",
    "        print(\"wrong input\")\n",
    "    else:\n",
    "        num_list = [normpdf(person[x],mean_by_gender[\"M\"][x],std_by_gender[\"M\"][x]) for x in range(3)]\n",
    "        den_list = [normpdf(person[x],mean_by_gender[\"F\"][x],std_by_gender[\"F\"][x]) for x in range(3)]\n",
    "        eval_rel_prob = (float(p[0])/float(p[1]))*prod(num_list,den_list)\n",
    "        if eval_rel_prob > 1:\n",
    "            return(\"M\")\n",
    "        else:\n",
    "            return(\"F\")"
   ]
  },
  {
   "cell_type": "code",
   "execution_count": 19,
   "metadata": {},
   "outputs": [],
   "source": [
    "new_person = [(6,130,8),(6.5,190,10)]\n",
    "class_pred = [predict_class(x) for x in new_person]"
   ]
  },
  {
   "cell_type": "code",
   "execution_count": 20,
   "metadata": {},
   "outputs": [
    {
     "data": {
      "text/plain": [
       "['F', 'M']"
      ]
     },
     "execution_count": 20,
     "metadata": {},
     "output_type": "execute_result"
    }
   ],
   "source": [
    "class_pred"
   ]
  },
  {
   "cell_type": "code",
   "execution_count": null,
   "metadata": {},
   "outputs": [],
   "source": []
  }
 ],
 "metadata": {
  "kernelspec": {
   "display_name": "Python 3",
   "language": "python",
   "name": "python3"
  },
  "language_info": {
   "codemirror_mode": {
    "name": "ipython",
    "version": 3
   },
   "file_extension": ".py",
   "mimetype": "text/x-python",
   "name": "python",
   "nbconvert_exporter": "python",
   "pygments_lexer": "ipython3",
   "version": "3.7.3"
  }
 },
 "nbformat": 4,
 "nbformat_minor": 2
}
